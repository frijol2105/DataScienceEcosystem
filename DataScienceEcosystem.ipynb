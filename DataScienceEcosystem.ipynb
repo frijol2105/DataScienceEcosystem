{
 "cells": [
  {
   "cell_type": "markdown",
   "id": "064abc4c",
   "metadata": {},
   "source": [
    "# Data Science Tools and Ecosystem "
   ]
  },
  {
   "cell_type": "markdown",
   "id": "4127b167",
   "metadata": {},
   "source": [
    "In this notebook, Data Science Tools and Ecosustem are summarized."
   ]
  },
  {
   "cell_type": "markdown",
   "id": "58eea0d1",
   "metadata": {},
   "source": [
    "**Objectives:**\n",
    "\n",
    "- List popular languages for Data Science\n",
    "- Identify commonly used libraries in Data Science\n",
    "- Understand basic data manipulation techniques\n",
    "- Learn fundamental data visualization methods\n",
    "- Apply machine learning algorithms using Python"
   ]
  },
  {
   "cell_type": "markdown",
   "id": "35b02899",
   "metadata": {},
   "source": [
    "Some of the popular languages that Data Scienteists use are:\n",
    "1. Python\n",
    "2. R\n",
    "3. Sql"
   ]
  },
  {
   "cell_type": "markdown",
   "id": "2a37da90",
   "metadata": {},
   "source": [
    "Some of the commonly used libraries used by Data Scientists include:\n",
    "  1. Matplotlib\n",
    "  2. seaborn\n",
    "  3. Numpy"
   ]
  },
  {
   "cell_type": "markdown",
   "id": "67409633",
   "metadata": {},
   "source": [
    "| Data Science Tools       |\n",
    "|--------------------------|\n",
    "| Jupyter Notebook         |\n",
    "| RStudio                  |\n",
    "| Apache Zeppelin          |"
   ]
  },
  {
   "cell_type": "code",
   "execution_count": 1,
   "id": "25bf7c97",
   "metadata": {},
   "outputs": [],
   "source": [
    "### Below are a few examples of evaluating arithmetic expressions in Python"
   ]
  },
  {
   "cell_type": "code",
   "execution_count": 1,
   "id": "5d597942",
   "metadata": {},
   "outputs": [
    {
     "data": {
      "text/plain": [
       "17"
      ]
     },
     "execution_count": 1,
     "metadata": {},
     "output_type": "execute_result"
    }
   ],
   "source": [
    "(3*4)+5"
   ]
  },
  {
   "cell_type": "code",
   "execution_count": 2,
   "id": "2d9f1284",
   "metadata": {},
   "outputs": [
    {
     "data": {
      "text/plain": [
       "3.3333333333333335"
      ]
     },
     "execution_count": 2,
     "metadata": {},
     "output_type": "execute_result"
    }
   ],
   "source": [
    "#This will convert 200 minnutes to hours by diving by 60\n",
    "200/60"
   ]
  },
  {
   "cell_type": "markdown",
   "id": "fbcf89c9",
   "metadata": {},
   "source": [
    "## Author\n",
    "\n",
    "Huy Anh"
   ]
  },
  {
   "cell_type": "code",
   "execution_count": null,
   "id": "d449261c",
   "metadata": {},
   "outputs": [],
   "source": []
  }
 ],
 "metadata": {
  "kernelspec": {
   "display_name": "Python 3 (ipykernel)",
   "language": "python",
   "name": "python3"
  },
  "language_info": {
   "codemirror_mode": {
    "name": "ipython",
    "version": 3
   },
   "file_extension": ".py",
   "mimetype": "text/x-python",
   "name": "python",
   "nbconvert_exporter": "python",
   "pygments_lexer": "ipython3",
   "version": "3.9.12"
  }
 },
 "nbformat": 4,
 "nbformat_minor": 5
}
